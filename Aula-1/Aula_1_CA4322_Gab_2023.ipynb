{
 "cells": [
  {
   "cell_type": "markdown",
   "metadata": {
    "id": "73yCyAneDiJQ"
   },
   "source": [
    "# **Exercícios:**"
   ]
  },
  {
   "cell_type": "markdown",
   "metadata": {
    "id": "6MCDgkWKBCYm"
   },
   "source": [
    "\n",
    "1)\tPlotar os gráficos das **f(x)=$x^2$+6x+9 e g(x)=2/x** separadamante e  com os gra´ficos sobrepostos. Usar como varição de x o intervalor de -5 até 5 com 20 pontos.\n",
    "\n",
    "\n"
   ]
  },
  {
   "cell_type": "code",
   "execution_count": 2,
   "metadata": {
    "id": "jLwtUkaBD99f"
   },
   "outputs": [
    {
     "data": {
      "text/plain": [
       "[<matplotlib.lines.Line2D at 0x25ca75e4fd0>,\n",
       " <matplotlib.lines.Line2D at 0x25ca75e6100>]"
      ]
     },
     "execution_count": 2,
     "metadata": {},
     "output_type": "execute_result"
    },
    {
     "data": {
      "image/png": "[encoded data removed]",
      "text/plain": [
       "<Figure size 432x288 with 1 Axes>"
      ]
     },
     "metadata": {
      "needs_background": "light"
     },
     "output_type": "display_data"
    }
   ],
   "source": [
    "# digite aqui a solução\n",
    "import numpy as np\n",
    "import matplotlib.pyplot as plt\n",
    "\n",
    "\n",
    "x = np.linspace(-5,5,20) \n",
    "y1 = x**2+6*x+9   \n",
    "y2=2/x\n",
    "plt.plot(x,y1,x,y2)          "
   ]
  },
  {
   "cell_type": "markdown",
   "metadata": {
    "id": "aJBbuS68Deq5"
   },
   "source": [
    "2) Calcular o \n",
    "$\\displaystyle \\lim_{x\\to 3} \\frac{\\sqrt x - \\sqrt 3}{x-3}$"
   ]
  },
  {
   "cell_type": "code",
   "execution_count": 4,
   "metadata": {
    "id": "MCgoQACuECmm"
   },
   "outputs": [
    {
     "name": "stdout",
     "output_type": "stream",
     "text": [
      "0.3\n"
     ]
    }
   ],
   "source": [
    "# digite aqui a solução\n",
    "from sympy import *\n",
    "#definir os símbolos usados\n",
    "x=symbols('x')\n",
    "#definir a função\n",
    "expr=(sqrt(x)-sqrt(3))/(x-3)\n",
    "#calcular o limite\n",
    "r=limit(expr,x,3)\n",
    "print(\"%.1f\" %r)"
   ]
  },
  {
   "cell_type": "markdown",
   "metadata": {
    "id": "770HtoXhEHWF"
   },
   "source": [
    "3) Calcular a derivada de **f(x)=$(sen(x)+cos(x))^3$**"
   ]
  },
  {
   "cell_type": "code",
   "execution_count": 7,
   "metadata": {
    "id": "SapBfQYMEWGd"
   },
   "outputs": [
    {
     "name": "stdout",
     "output_type": "stream",
     "text": [
      "(-3*sin(x) + 3*cos(x))*(sin(x) + cos(x))**2\n"
     ]
    }
   ],
   "source": [
    "# digite aqui sua resposta\n",
    "\n",
    "eq=(sin(x)+cos(x))**3\n",
    "\n",
    "r=diff(eq,x,1)\n",
    "print(r)\n"
   ]
  },
  {
   "cell_type": "markdown",
   "metadata": {
    "id": "GEnDhydvEZ31"
   },
   "source": [
    "4) Calcular a integral indefinida de \n",
    "$\\displaystyle \\int \\frac{1}{x^2+1} \\,dx$"
   ]
  },
  {
   "cell_type": "code",
   "execution_count": 6,
   "metadata": {
    "id": "2viElPRdFf9I"
   },
   "outputs": [
    {
     "data": {
      "text/latex": [
       "$\\displaystyle \\operatorname{atan}{\\left(x \\right)}$"
      ],
      "text/plain": [
       "atan(x)"
      ]
     },
     "execution_count": 6,
     "metadata": {},
     "output_type": "execute_result"
    }
   ],
   "source": [
    "# digite aqui sua resposta\n",
    "\n",
    "# definir x e y como simbolicos\n",
    "x,y=symbols('x y')\n",
    "y=1/(x**2+1)\n",
    "integrate(y,x)"
   ]
  },
  {
   "cell_type": "markdown",
   "metadata": {
    "id": "4_CEL-vCFjAI"
   },
   "source": [
    "5) Calcular a derivada de terceira ordem da função f(x)=\n",
    "$\\displaystyle \\frac{x}{x+1} $\n"
   ]
  },
  {
   "cell_type": "code",
   "execution_count": 8,
   "metadata": {
    "id": "xwxGlPD3Gi0j"
   },
   "outputs": [
    {
     "name": "stdout",
     "output_type": "stream",
     "text": [
      "6*(-x/(x + 1) + 1)/(x + 1)**3\n"
     ]
    }
   ],
   "source": [
    "# digite aqui sua resposta\n",
    "\n",
    "eq=x/(x+1)\n",
    "\n",
    "r=diff(eq,x,3)\n",
    "print(r)\n"
   ]
  },
  {
   "cell_type": "markdown",
   "metadata": {
    "id": "VC5yXUf-Gl4Y"
   },
   "source": [
    "6) Calcular a seguinte integral definida:\n",
    "\n",
    "$ \\displaystyle \\int_{1}^{4} \\ sqrt(x) -\\frac{1}{x} + 3 \\,dx $ "
   ]
  },
  {
   "cell_type": "code",
   "execution_count": 9,
   "metadata": {
    "id": "7YGi2p0iHWBq"
   },
   "outputs": [
    {
     "data": {
      "text/latex": [
       "$\\displaystyle \\frac{41}{3} - \\log{\\left(4 \\right)}$"
      ],
      "text/plain": [
       "41/3 - log(4)"
      ]
     },
     "execution_count": 9,
     "metadata": {},
     "output_type": "execute_result"
    }
   ],
   "source": [
    "# digite aqui sua resposta\n",
    "from sympy import*\n",
    "x,y=symbols('x y')\n",
    "y=sqrt(x)-1/x +3\n",
    "integrate(y,(x,1,4))"
   ]
  },
  {
   "cell_type": "code",
   "execution_count": null,
   "metadata": {},
   "outputs": [],
   "source": []
  }
 ],
 "metadata": {
  "colab": {
   "provenance": []
  },
  "kernelspec": {
   "display_name": "Python 3 (ipykernel)",
   "language": "python",
   "name": "python3"
  },
  "language_info": {
   "codemirror_mode": {
    "name": "ipython",
    "version": 3
   },
   "file_extension": ".py",
   "mimetype": "text/x-python",
   "name": "python",
   "nbconvert_exporter": "python",
   "pygments_lexer": "ipython3",
   "version": "3.9.12"
  }
 },
 "nbformat": 4,
 "nbformat_minor": 1
}
